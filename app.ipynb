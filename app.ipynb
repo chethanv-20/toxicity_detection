{
 "cells": [
  {
   "cell_type": "code",
   "execution_count": 3,
   "metadata": {},
   "outputs": [
    {
     "name": "stdout",
     "output_type": "stream",
     "text": [
      "                 id                                       comment_text  toxic  \\\n",
      "0  0000997932d777bf  Explanation\\nWhy the edits made under my usern...      0   \n",
      "1  000103f0d9cfb60f  D'aww! He matches this background colour I'm s...      0   \n",
      "2  000113f07ec002fd  Hey man, I'm really not trying to edit war. It...      0   \n",
      "3  0001b41b1c6bb37e  \"\\nMore\\nI can't make any real suggestions on ...      0   \n",
      "4  0001d958c54c6e35  You, sir, are my hero. Any chance you remember...      0   \n",
      "\n",
      "   severe_toxic  obscene  threat  insult  identity_hate  \n",
      "0             0        0       0       0              0  \n",
      "1             0        0       0       0              0  \n",
      "2             0        0       0       0              0  \n",
      "3             0        0       0       0              0  \n",
      "4             0        0       0       0              0  \n"
     ]
    }
   ],
   "source": [
    "import pandas as pd\n",
    "\n",
    "df=pd.read_csv('dataset_types_toxic.csv')\n",
    "print(df.head())"
   ]
  },
  {
   "cell_type": "code",
   "execution_count": 4,
   "metadata": {},
   "outputs": [
    {
     "name": "stdout",
     "output_type": "stream",
     "text": [
      "['id' 'comment_text' 'toxic' 'severe_toxic' 'obscene' 'threat' 'insult'\n",
      " 'identity_hate']\n"
     ]
    }
   ],
   "source": [
    "print(df.columns.values)"
   ]
  },
  {
   "cell_type": "code",
   "execution_count": 5,
   "metadata": {},
   "outputs": [
    {
     "name": "stdout",
     "output_type": "stream",
     "text": [
      "   Unnamed: 0                  keyword  \\\n",
      "0           0                   tinkle   \n",
      "1           1                   tinkle   \n",
      "2           2  undocumented immigrants   \n",
      "3           3  undocumented immigrants   \n",
      "4           4  undocumented immigrants   \n",
      "\n",
      "                                         edited_text  is_euph  \\\n",
      "0  We're just getting back what was TAKEN from us...        1   \n",
      "1  I think AB390 will pass next year now that the...        1   \n",
      "2  Singled Out Think Like a Man, the new movie ba...        1   \n",
      "3  Not to be outdone, Sen. Rand Paul (R-Ky. ), so...        1   \n",
      "4  The law has also galvanized the growing immigr...        1   \n",
      "\n",
      "               category                    type  euph_status  \\\n",
      "0  body functions/parts                  tinkle  always_euph   \n",
      "1  body functions/parts                  tinkle  always_euph   \n",
      "2              politics  undocumented immigrant  always_euph   \n",
      "3              politics  undocumented immigrant  always_euph   \n",
      "4              politics  undocumented immigrant  always_euph   \n",
      "\n",
      "                                            sentence  is_vague  \n",
      "0  We're just getting back what was TAKEN from us...         0  \n",
      "1  I think AB390 will pass next year now that the...         0  \n",
      "2  Anything but Secure A federal program designed...         0  \n",
      "3  In a post-election interview with POLITICO Pau...         0  \n",
      "4  Aside from undocumented immigrants the America...         0  \n"
     ]
    }
   ],
   "source": [
    "euph=pd.read_csv('eupher.csv')\n",
    "print(euph.head())"
   ]
  },
  {
   "cell_type": "code",
   "execution_count": 7,
   "metadata": {},
   "outputs": [
    {
     "name": "stdout",
     "output_type": "stream",
     "text": [
      "['Unnamed: 0' 'keyword' 'edited_text' 'is_euph' 'category' 'type'\n",
      " 'euph_status' 'sentence' 'is_vague']\n"
     ]
    }
   ],
   "source": [
    "print(euph.columns.values)"
   ]
  },
  {
   "cell_type": "markdown",
   "metadata": {},
   "source": [
    "Euphermism words with toxic or not toxic"
   ]
  },
  {
   "cell_type": "code",
   "execution_count": 9,
   "metadata": {},
   "outputs": [
    {
     "name": "stdout",
     "output_type": "stream",
     "text": [
      "The new CSV file has been created successfully.\n"
     ]
    }
   ],
   "source": [
    "import pandas as pd\n",
    "import re\n",
    "\n",
    "# Load the CSV file\n",
    "df = pd.read_csv('toxicity_encode.csv')\n",
    "\n",
    "# Define a function to find words with special characters\n",
    "def extract_special_char_words(text):\n",
    "    # Regular expression to match words with special characters\n",
    "    # Adding @, #, !, and ? to the list of special characters to match\n",
    "    special_char_words = re.findall(r'\\b\\w*[@#!?]\\w*\\b', text)\n",
    "    return special_char_words\n",
    "\n",
    "# Apply the function to each row and create a new DataFrame\n",
    "special_char_words = []\n",
    "toxicity_labels = []\n",
    "\n",
    "for index, row in df.iterrows():\n",
    "    words_with_special_chars = extract_special_char_words(row['text'])\n",
    "    for word in words_with_special_chars:\n",
    "        special_char_words.append(word)\n",
    "        toxicity_labels.append(row['is_toxic'])\n",
    "\n",
    "# Create a new DataFrame with the extracted words and their toxicity labels\n",
    "result_df = pd.DataFrame({\n",
    "    'word': special_char_words,\n",
    "    'is_toxic': toxicity_labels\n",
    "})\n",
    "\n",
    "# Save the resulting DataFrame to a new CSV file\n",
    "result_df.to_csv('euphe_words.csv', index=False)\n",
    "\n",
    "print(\"The new CSV file has been created successfully.\")\n"
   ]
  },
  {
   "cell_type": "code",
   "execution_count": 10,
   "metadata": {},
   "outputs": [
    {
     "name": "stdout",
     "output_type": "stream",
     "text": [
      "The CSV file has been updated successfully.\n"
     ]
    }
   ],
   "source": [
    "import pandas as pd\n",
    "import re\n",
    "\n",
    "# Load the CSV file\n",
    "df = pd.read_csv('dataset_types_toxic.csv')\n",
    "\n",
    "# Define a function to find words with special characters\n",
    "def extract_special_char_words(text):\n",
    "    # Regular expression to match words with special characters\n",
    "    special_char_words = re.findall(r'\\b\\w*[@#!?]\\w*\\b', text)\n",
    "    return special_char_words\n",
    "\n",
    "# Initialize lists to store words and their corresponding toxicity labels\n",
    "special_char_words = []\n",
    "toxicity_labels = []\n",
    "\n",
    "# Iterate over each row in the DataFrame\n",
    "for index, row in df.iterrows():\n",
    "    words_with_special_chars = extract_special_char_words(row['comment_text'])\n",
    "    is_toxic = int(\n",
    "        row['toxic'] == 1 or\n",
    "        row['severe_toxic'] == 1 or\n",
    "        row['obscene'] == 1 or\n",
    "        row['threat'] == 1 or\n",
    "        row['insult'] == 1 or\n",
    "        row['identity_hate'] == 1\n",
    "    )\n",
    "    for word in words_with_special_chars:\n",
    "        special_char_words.append(word)\n",
    "        toxicity_labels.append(is_toxic)\n",
    "\n",
    "# Create a new DataFrame with the extracted words and their toxicity labels\n",
    "result_df = pd.DataFrame({\n",
    "    'word': special_char_words,\n",
    "    'is_toxic': toxicity_labels\n",
    "})\n",
    "\n",
    "# Append to the existing CSV file or create it if it does not exist\n",
    "result_df.to_csv('euphe_words.csv', mode='a', index=False, header=not pd.io.common.file_exists('euphe_words.csv'))\n",
    "\n",
    "print(\"The CSV file has been updated successfully.\")\n"
   ]
  },
  {
   "cell_type": "markdown",
   "metadata": {},
   "source": [
    "Data cleaning in eupher words"
   ]
  },
  {
   "cell_type": "code",
   "execution_count": 11,
   "metadata": {},
   "outputs": [
    {
     "name": "stdout",
     "output_type": "stream",
     "text": [
      "Duplicates removed and the cleaned CSV file has been created.\n"
     ]
    }
   ],
   "source": [
    "import pandas as pd\n",
    "\n",
    "# Load the CSV file\n",
    "df = pd.read_csv('euphe_words.csv')\n",
    "\n",
    "# Drop duplicate words based on the \"word\" column\n",
    "cleaned_df = df.drop_duplicates(subset='word', keep='first')\n",
    "\n",
    "# Save the cleaned DataFrame to a new CSV file\n",
    "cleaned_df.to_csv('cleaned_euphe_words.csv', index=False)\n",
    "\n",
    "print(\"Duplicates removed and the cleaned CSV file has been created.\")\n"
   ]
  },
  {
   "cell_type": "code",
   "execution_count": 15,
   "metadata": {},
   "outputs": [
    {
     "name": "stdout",
     "output_type": "stream",
     "text": [
      "Number of words labeled as not toxic (0): 3515\n",
      "Number of words labeled as toxic (1): 238\n"
     ]
    },
    {
     "data": {
      "image/png": "[encoded data removed]",
      "text/plain": [
       "<Figure size 640x480 with 1 Axes>"
      ]
     },
     "metadata": {},
     "output_type": "display_data"
    }
   ],
   "source": [
    "import pandas as pd\n",
    "\n",
    "# Load the cleaned CSV file\n",
    "df = pd.read_csv('cleaned_euphe_words.csv')\n",
    "\n",
    "# Count the number of occurrences of each value in the \"is_toxic\" column\n",
    "toxic_counts = df['is_toxic'].value_counts()\n",
    "\n",
    "# Print the counts\n",
    "print(\"Number of words labeled as not toxic (0):\", toxic_counts[0])\n",
    "print(\"Number of words labeled as toxic (1):\", toxic_counts[1])\n",
    "\n",
    "# Plotting the bar graph\n",
    "toxic_counts.plot(kind='bar', color=['green', 'red'])\n",
    "\n",
    "# Adding labels and title\n",
    "plt.xlabel('Toxicity')\n",
    "plt.ylabel('Count')\n",
    "plt.title('Counts of Toxic and Not Toxic Words')\n",
    "\n",
    "# Show the plot\n",
    "plt.show()\n"
   ]
  },
  {
   "cell_type": "markdown",
   "metadata": {},
   "source": [
    "cleaning dataset_types_toxic"
   ]
  },
  {
   "cell_type": "code",
   "execution_count": 17,
   "metadata": {},
   "outputs": [
    {
     "name": "stderr",
     "output_type": "stream",
     "text": [
      "C:\\Users\\DELL\\AppData\\Local\\Temp\\ipykernel_11600\\2564056982.py:8: FutureWarning: DataFrame.applymap has been deprecated. Use DataFrame.map instead.\n",
      "  df = df.applymap(lambda x: x.strip('\"') if isinstance(x, str) else x)\n"
     ]
    },
    {
     "name": "stdout",
     "output_type": "stream",
     "text": [
      "                 id                                       comment_text  toxic  \\\n",
      "0  0000997932d777bf  Explanation\\nWhy the edits made under my usern...      0   \n",
      "1  000103f0d9cfb60f  D'aww! He matches this background colour I'm s...      0   \n",
      "2  000113f07ec002fd  Hey man, I'm really not trying to edit war. It...      0   \n",
      "3  0001b41b1c6bb37e  More\\nI can't make any real suggestions on imp...      0   \n",
      "4  0001d958c54c6e35  You, sir, are my hero. Any chance you remember...      0   \n",
      "\n",
      "   severe_toxic  obscene  threat  insult  identity_hate  is_eupher  is_toxic  \n",
      "0             0        0       0       0              0          0         0  \n",
      "1             0        0       0       0              0          0         0  \n",
      "2             0        0       0       0              0          0         0  \n",
      "3             0        0       0       0              0          1         0  \n",
      "4             0        0       0       0              0          0         0  \n"
     ]
    }
   ],
   "source": [
    "import pandas as pd\n",
    "import re\n",
    "\n",
    "# Load the CSV file\n",
    "df = pd.read_csv('dataset_types_toxic.csv')\n",
    "\n",
    "# Remove quotes from the beginning and end of strings in all columns\n",
    "df = df.applymap(lambda x: x.strip('\"') if isinstance(x, str) else x)\n",
    "\n",
    "# Remove spaces from the start of sentences in the \"comment_text\" column\n",
    "df['comment_text'] = df['comment_text'].apply(lambda x: x.lstrip())\n",
    "\n",
    "# Define a function to check for special characters between words\n",
    "def has_special_character(text):\n",
    "    return bool(re.search(r'\\b\\w*[@#!?]\\w*\\b', text))\n",
    "\n",
    "# Add a column \"is_eupher\" based on special characters between words\n",
    "df['is_eupher'] = df['comment_text'].apply(has_special_character).astype(int)\n",
    "\n",
    "# Add a column \"is_toxic\" based on specified conditions\n",
    "toxic_columns = ['severe_toxic', 'obscene', 'threat', 'insult', 'identity_hate']\n",
    "df['is_toxic'] = df[toxic_columns].max(axis=1)\n",
    "\n",
    "# Print the modified DataFrame\n",
    "print(df.head())\n",
    "\n",
    "# Save the modified DataFrame to a new CSV file\n",
    "df.to_csv('modified_dataset.csv', index=False)\n"
   ]
  },
  {
   "cell_type": "code",
   "execution_count": 19,
   "metadata": {},
   "outputs": [
    {
     "name": "stdout",
     "output_type": "stream",
     "text": [
      "Number of rows labeled as toxic (is_toxic = 1): 10559\n",
      "Number of rows labeled as not toxic (is_toxic = 0): 149012\n"
     ]
    },
    {
     "data": {
      "image/png": "[encoded data removed]",
      "text/plain": [
       "<Figure size 640x480 with 1 Axes>"
      ]
     },
     "metadata": {},
     "output_type": "display_data"
    }
   ],
   "source": [
    "import pandas as pd\n",
    "import matplotlib.pyplot as plt\n",
    "\n",
    "# Load the modified CSV file\n",
    "df = pd.read_csv('modified_dataset.csv')\n",
    "\n",
    "# Count the number of occurrences of each value in the \"is_toxic\" column\n",
    "toxic_counts = df['is_toxic'].value_counts()\n",
    "\n",
    "# Get the counts, defaulting to 0 if not present\n",
    "num_toxic = toxic_counts.get(1, 0)\n",
    "num_not_toxic = toxic_counts.get(0, 0)\n",
    "\n",
    "# Print the counts\n",
    "print(\"Number of rows labeled as toxic (is_toxic = 1):\", num_toxic)\n",
    "print(\"Number of rows labeled as not toxic (is_toxic = 0):\", num_not_toxic)\n",
    "\n",
    "# Plotting the bar graph\n",
    "labels = ['Not Toxic (0)', 'Toxic (1)']\n",
    "counts = [num_not_toxic, num_toxic]\n",
    "\n",
    "plt.bar(labels, counts, color=['green', 'red'])\n",
    "plt.xlabel('Toxicity')\n",
    "plt.ylabel('Count')\n",
    "plt.title('Counts of Toxic and Not Toxic Rows')\n",
    "\n",
    "# Show the plot\n",
    "plt.show()\n"
   ]
  },
  {
   "cell_type": "code",
   "execution_count": null,
   "metadata": {},
   "outputs": [],
   "source": []
  }
 ],
 "metadata": {
  "kernelspec": {
   "display_name": "Python 3",
   "language": "python",
   "name": "python3"
  },
  "language_info": {
   "codemirror_mode": {
    "name": "ipython",
    "version": 3
   },
   "file_extension": ".py",
   "mimetype": "text/x-python",
   "name": "python",
   "nbconvert_exporter": "python",
   "pygments_lexer": "ipython3",
   "version": "3.12.3"
  }
 },
 "nbformat": 4,
 "nbformat_minor": 2
}
